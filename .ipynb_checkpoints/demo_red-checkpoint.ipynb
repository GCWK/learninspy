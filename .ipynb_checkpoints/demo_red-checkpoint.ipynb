{
 "metadata": {
  "name": "",
  "signature": "sha256:1ee02973955bbbe0bf20fee43db02f41a236d60c763f66a84139fec479030b65"
 },
 "nbformat": 3,
 "nbformat_minor": 0,
 "worksheets": []
}