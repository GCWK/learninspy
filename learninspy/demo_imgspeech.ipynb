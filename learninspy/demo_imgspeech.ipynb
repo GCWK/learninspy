{
 "worksheets": [
  {
   "cells": [
    {
     "cell_type": "markdown",
     "metadata": {},
     "source": [
      "**Learninspy**\n",
      "============\n",
      "<img style=\"display: inline;\" src=\"docs/img/Learninspy-logo_grande.png\" width=\"300\" />\n",
      "\n",
      "*Deep Learning in Spark, with Python*"
     ]
    },
    {
     "cell_type": "markdown",
     "metadata": {},
     "source": [
      "###Importar librerias a utilizar"
     ]
    },
    {
     "cell_type": "code",
     "metadata": {},
     "outputs": [],
     "input": [
      "# Librerias de Python\n",
      "import time\n",
      "\n",
      "# Librerias internas\n",
      "import dnn.model as mod\n",
      "from dnn.optimization import OptimizerParameters\n",
      "from dnn.stops import criterion\n",
      "from utils.data import StandardScaler, LabeledDataSet\n",
      "from dnn.evaluation import ClassificationMetrics\n",
      "from utils.feature import PCA"
     ],
     "language": "python",
     "prompt_number": 20
    },
    {
     "cell_type": "markdown",
     "metadata": {},
     "source": [
      "###Carga de datos (ejemplo con Iris)"
     ]
    },
    {
     "cell_type": "code",
     "metadata": {},
     "outputs": [
      {
       "output_type": "stream",
       "stream": "stdout",
       "text": [
        " Size de data:  "
       ]
      },
      {
       "output_type": "stream",
       "stream": "stdout",
       "text": [
        "900  x  512\n"
       ]
      }
     ],
     "input": [
      "# Uso clase hecha para manejo de DataSet (almacena en RDD)\n",
      "dataset = LabeledDataSet()\n",
      "dataset.load_file(\"/home/leeandro04/Documentos/Datos/EEG/ImaginedSpeech-Brainliner/alldatalabel_cat3_Norm.dat\")\n",
      "print \"Size de data: \", dataset.data.count(), \" x \", len(dataset.features.take(1)[0].toArray())"
     ],
     "language": "python",
     "prompt_number": 7
    },
    {
     "cell_type": "markdown",
     "metadata": {},
     "source": [
      "###Construcción de Base de Datos con etiquetas"
     ]
    },
    {
     "cell_type": "code",
     "metadata": {},
     "outputs": [],
     "input": [
      "train, valid, test = dataset.split_data([.7, .2, .1])  # Particiono conjuntos\n",
      "\n",
      "# Aplico PCA\n",
      "pca = PCA(train)\n",
      "train = pca.transform()\n",
      "valid = pca.transform(data=valid)\n",
      "test = pca.transform(data=test)\n",
      "k = pca.k\n",
      "\n",
      "# Standarize data\n",
      "std = StandardScaler()\n",
      "std.fit(train)\n",
      "train = std.transform(train)\n",
      "valid = std.transform(valid)\n",
      "test = std.transform(test)\n",
      "\n",
      "# Collect de RDD en list\n",
      "train = train.collect()\n",
      "valid = valid.collect()\n",
      "test = test.collect()"
     ],
     "language": "python",
     "prompt_number": 21
    },
    {
     "cell_type": "heading",
     "metadata": {},
     "level": 3,
     "source": [
      "Selección de parámetros para la construcción de red neuronal"
     ]
    },
    {
     "cell_type": "code",
     "metadata": {},
     "outputs": [],
     "input": [
      "net_params = mod.DeepLearningParams(units_layers=[k, 50, 30, 10, 3], activation='Softplus',\n",
      "                                    dropout_ratios=[0.1, 0.5, 0.5, 0.0], classification=True)\n",
      "\n",
      "neural_net = mod.NeuralNetwork(net_params)"
     ],
     "language": "python",
     "prompt_number": 46
    },
    {
     "cell_type": "markdown",
     "metadata": {},
     "source": [
      "###Selección de parámetros de optimización"
     ]
    },
    {
     "cell_type": "code",
     "metadata": {},
     "outputs": [],
     "input": [
      "local_stops = [criterion['MaxIterations'](30),\n",
      "                    criterion['AchieveTolerance'](0.90, key='hits')]\n",
      "\n",
      "global_stops = [criterion['MaxIterations'](20),\n",
      "                     criterion['AchieveTolerance'](0.95, key='hits')]\n",
      "\n",
      "opt_params = OptimizerParameters(algorithm='Adadelta', stops=local_stops, merge_criter='log_avg')"
     ],
     "language": "python",
     "prompt_number": 29
    },
    {
     "cell_type": "markdown",
     "metadata": {},
     "source": [
      "###Fit de red neuronal\n",
      "*Notar que puede ejecutarse varias veces para dar varios ajustes*"
     ]
    },
    {
     "cell_type": "code",
     "metadata": {},
     "outputs": [
      {
       "output_type": "stream",
       "stream": "stdout",
       "text": [
        "Entrenando red neuronal ...\n",
        "Epoca "
       ]
      },
      {
       "output_type": "stream",
       "stream": "stdout",
       "text": [
        " 1 . Hits en train:  0.318026972904 . Hits en valid:  0.350088691731\n",
        "Epoca "
       ]
      },
      {
       "output_type": "stream",
       "stream": "stdout",
       "text": [
        " 2 . Hits en train:  0.489410938564 . Hits en valid:  0.373490927443\n",
        "Epoca "
       ]
      },
      {
       "output_type": "stream",
       "stream": "stdout",
       "text": [
        " 3 . Hits en train:  0.577430733466 . Hits en valid:  0.484323236531\n",
        "Epoca "
       ]
      },
      {
       "output_type": "stream",
       "stream": "stdout",
       "text": [
        " 4 . Hits en train:  0.629826323695 . Hits en valid:  0.516003878105\n",
        "Epoca "
       ]
      },
      {
       "output_type": "stream",
       "stream": "stdout",
       "text": [
        " 5 . Hits en train:  0.663900608269 . Hits en valid:  0.541357966811\n",
        "Epoca "
       ]
      },
      {
       "output_type": "stream",
       "stream": "stdout",
       "text": [
        " 6 . Hits en train:  0.627241740308 . Hits en valid:  0.517526138108\n",
        "Epoca "
       ]
      },
      {
       "output_type": "stream",
       "stream": "stdout",
       "text": [
        " 7 . Hits en train:  0.656487433231 . Hits en valid:  0.510297126486\n",
        "Epoca "
       ]
      },
      {
       "output_type": "stream",
       "stream": "stdout",
       "text": [
        " 8 . Hits en train:  0.683599987462 . Hits en valid:  0.511528170352\n",
        "Epoca "
       ]
      },
      {
       "output_type": "stream",
       "stream": "stdout",
       "text": [
        " 9 . Hits en train:  0.702140850108 . Hits en valid:  0.47576126264\n",
        "Epoca "
       ]
      },
      {
       "output_type": "stream",
       "stream": "stdout",
       "text": [
        " 10 . Hits en train:  0.719216108958 . Hits en valid:  0.474318784295\n",
        "Epoca "
       ]
      },
      {
       "output_type": "stream",
       "stream": "stdout",
       "text": [
        " 11 . Hits en train:  0.722741372125 . Hits en valid:  0.490083862418\n",
        "Epoca "
       ]
      },
      {
       "output_type": "stream",
       "stream": "stdout",
       "text": [
        " 12 . Hits en train:  0.693327939099 . Hits en valid:  0.496327099129\n",
        "Epoca "
       ]
      },
      {
       "output_type": "stream",
       "stream": "stdout",
       "text": [
        " 13 . Hits en train:  0.70421317536 . Hits en valid:  0.505609125828\n",
        "Epoca "
       ]
      },
      {
       "output_type": "stream",
       "stream": "stdout",
       "text": [
        " 14 . Hits en train:  0.653797934386 . Hits en valid:  0.463484309105\n",
        "Epoca "
       ]
      },
      {
       "output_type": "stream",
       "stream": "stdout",
       "text": [
        " 15 . Hits en train:  0.635548561035 . Hits en valid:  0.486426648871\n",
        "Epoca "
       ]
      },
      {
       "output_type": "stream",
       "stream": "stdout",
       "text": [
        " 16 . Hits en train:  0.627134896569 . Hits en valid:  0.484833136532\n",
        "Epoca "
       ]
      },
      {
       "output_type": "stream",
       "stream": "stdout",
       "text": [
        " 17 . Hits en train:  0.614753238457 . Hits en valid:  0.506604443921\n",
        "Epoca "
       ]
      },
      {
       "output_type": "stream",
       "stream": "stdout",
       "text": [
        " 18 . Hits en train:  0.579837666311 . Hits en valid:  0.461862709663\n",
        "Epoca "
       ]
      },
      {
       "output_type": "stream",
       "stream": "stdout",
       "text": [
        " 19 . Hits en train:  0.574588348366 . Hits en valid:  0.376601752673\n",
        "Epoca "
       ]
      },
      {
       "output_type": "stream",
       "stream": "stdout",
       "text": [
        " 20 . Hits en train:  0.600645799574 . Hits en valid:  0.529886537438\n"
       ]
      }
     ],
     "input": [
      "print \"Entrenando red neuronal ...\"\n",
      "t1 = time.time()\n",
      "hits_valid = neural_net.fit(train, valid, mini_batch=100, parallelism=4, stops=global_stops,\n",
      "                            optimizer_params=opt_params, keep_best=True)\n",
      "t1f = time.time() - t1"
     ],
     "language": "python",
     "prompt_number": 47
    },
    {
     "cell_type": "markdown",
     "metadata": {},
     "source": [
      "###Resultados"
     ]
    },
    {
     "cell_type": "code",
     "metadata": {},
     "outputs": [
      {
       "output_type": "stream",
       "stream": "stdout",
       "text": [
        "Tiempo:  739.997053146 Tasa de acierto final:  0.467289719626\n",
        "Metricas: "
       ]
      },
      {
       "output_type": "stream",
       "stream": "stdout",
       "text": [
        "\n",
        "Precision:  0.473204666482\n",
        "Recall:  0.457116807015\n",
        "Confusion: \n",
        "[[ 7 14 12]\n",
        " [ 3 23  8]\n",
        " [ 3 12 14]]\n"
       ]
      }
     ],
     "input": [
      "print 'Tiempo: ', t1f, 'Tasa de acierto final: ', hits_test\n",
      "\n",
      "hits_test, predict = neural_net.evaluate(test, predictions=True)\n",
      "print \"Metricas: \"\n",
      "labels = map(lambda lp: float(lp.label), test)\n",
      "metrics = ClassificationMetrics(zip(predict, labels), 3)\n",
      "print \"Precision: \", metrics.precision()\n",
      "print \"Recall: \", metrics.recall()\n",
      "print \"Confusion: \"\n",
      "print metrics.confusion_matrix()"
     ],
     "language": "python",
     "prompt_number": 48
    },
    {
     "cell_type": "markdown",
     "metadata": {},
     "source": [
      "###Gráficas"
     ]
    },
    {
     "cell_type": "code",
     "metadata": {},
     "outputs": [
      {
       "output_type": "display_data",
       "png": "[encoded data removed]",
       "text": [
        "<matplotlib.figure.Figure at 0x7f4590dd3150>"
       ],
       "metadata": {}
      },
      {
       "output_type": "display_data",
       "png": "[encoded data removed]",
       "text": [
        "<matplotlib.figure.Figure at 0x7f4565bd4310>"
       ],
       "metadata": {}
      },
      {
       "output_type": "display_data",
       "png": "[encoded data removed]",
       "text": [
        "<matplotlib.figure.Figure at 0x7f4572d77550>"
       ],
       "metadata": {}
      },
      {
       "output_type": "display_data",
       "png": "[encoded data removed]",
       "text": [
        "<matplotlib.figure.Figure at 0x7f4565cbc510>"
       ],
       "metadata": {}
      },
      {
       "output_type": "display_data",
       "png": "[encoded data removed]",
       "text": [
        "<matplotlib.figure.Figure at 0x7f4565a94090>"
       ],
       "metadata": {}
      }
     ],
     "input": [
      "import matplotlib.pyplot as plt\n",
      "from utils.plots import plot_confusion_matrix, plot_activations, plot_matrix, plot_neurons\n",
      "% matplotlib inline\n",
      "\n",
      "plot_confusion_matrix(metrics.confusion_matrix())\n",
      "plot_activations(net_params)\n",
      "plot_neurons(neural_net)"
     ],
     "language": "python",
     "prompt_number": 49
    },
    {
     "cell_type": "code",
     "metadata": {},
     "outputs": [],
     "input": [
      ""
     ],
     "language": "python",
     "prompt_number": 7
    }
   ]
  }
 ],
 "cells": [],
 "metadata": {
  "name": "",
  "signature": "sha256:0adca57bddd4162006eeaae595771a936d286146d43e3a125683f440e6880258"
 },
 "nbformat": 3,
 "nbformat_minor": 0
}