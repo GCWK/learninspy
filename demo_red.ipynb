{
 "metadata": {
  "name": "",
  "signature": "sha256:0a557b570f73b7cbec15d0455f01d9d4f015b8683930d1efcacf27c7f5a5e5df"
 },
 "nbformat": 3,
 "nbformat_minor": 0,
 "worksheets": [
  {
   "cells": [
    {
     "cell_type": "markdown",
     "metadata": {},
     "source": [
      "**Learninspy**\n",
      "============\n",
      "<img style=\"display: inline;\" src=\"docs/img/Learninspy-logo_grande.png\" width=\"300\" />\n",
      "\n",
      "*Deep Learning in Spark, with Python*"
     ]
    },
    {
     "cell_type": "markdown",
     "metadata": {},
     "source": [
      "###Importar librerias a utilizar"
     ]
    },
    {
     "cell_type": "code",
     "collapsed": false,
     "input": [
      "# Dependencias externas\n",
      "from sklearn import datasets\n",
      "\n",
      "# Librerias de Python\n",
      "import time\n",
      "\n",
      "# Librerias internas\n",
      "import dnn.model as mod\n",
      "from dnn.optimization import OptimizerParameters\n",
      "from dnn.stops import criterion\n",
      "from utils.data import StandardScaler, LabeledDataSet\n",
      "from dnn.evaluation import ClassificationMetrics"
     ],
     "language": "python",
     "metadata": {},
     "outputs": [],
     "prompt_number": 1
    },
    {
     "cell_type": "markdown",
     "metadata": {},
     "source": [
      "###Carga de datos (ejemplo con Iris)"
     ]
    },
    {
     "cell_type": "code",
     "collapsed": false,
     "input": [
      "data = datasets.load_iris()\n",
      "features = data.data\n",
      "labels = data.target\n",
      "print \"Size de data: \", features.shape"
     ],
     "language": "python",
     "metadata": {},
     "outputs": [
      {
       "output_type": "stream",
       "stream": "stdout",
       "text": [
        "Size de data:  (150, 4)\n"
       ]
      }
     ],
     "prompt_number": 2
    },
    {
     "cell_type": "markdown",
     "metadata": {},
     "source": [
      "###Construcci\u00f3n de Base de Datos con etiquetas"
     ]
    },
    {
     "cell_type": "code",
     "collapsed": false,
     "input": [
      "# Uso clase hecha para manejo de DataSet (almacena en RDD)\n",
      "dataset = LabeledDataSet(zip(labels, features))\n",
      "train, valid, test = dataset.split_data([.7, .2, .1])  # Particiono conjuntos\n",
      "# Standarize data\n",
      "std = StandardScaler()\n",
      "std.fit(train)\n",
      "train = std.transform(train)\n",
      "valid = std.transform(valid)\n",
      "test = std.transform(test)\n",
      "# Collect de RDD en list\n",
      "train = train.collect()\n",
      "valid = valid.collect()\n",
      "test = test.collect()"
     ],
     "language": "python",
     "metadata": {},
     "outputs": [],
     "prompt_number": 3
    },
    {
     "cell_type": "heading",
     "level": 3,
     "metadata": {},
     "source": [
      "Selecci\u00f3n de par\u00e1metros para la construcci\u00f3n de red neuronal"
     ]
    },
    {
     "cell_type": "code",
     "collapsed": false,
     "input": [
      "net_params = mod.DeepLearningParams(units_layers=[4, 10, 5, 3], activation='Softplus',\n",
      "                                    dropout_ratios=[0.5, 0.5, 0.0], classification=True)\n",
      "\n",
      "local_stops = [criterion['MaxIterations'](50),\n",
      "               criterion['AchieveTolerance'](0.99, key='hits')]\n",
      "\n",
      "global_stops = [criterion['MaxIterations'](5),\n",
      "                criterion['AchieveTolerance'](0.99, key='hits')]\n",
      "\n",
      "opt_params = OptimizerParameters(algorithm='Adadelta', stops=local_stops, merge_criter='w_avg')\n",
      "\n",
      "\n",
      "neural_net = mod.NeuralNetwork(net_params)"
     ],
     "language": "python",
     "metadata": {},
     "outputs": [],
     "prompt_number": 4
    },
    {
     "cell_type": "markdown",
     "metadata": {},
     "source": [
      "###Fit de red neuronal\n",
      "*Notar que puede ejecutarse varias veces para dar varios ajustes*"
     ]
    },
    {
     "cell_type": "code",
     "collapsed": false,
     "input": [
      "print \"Entrenando red neuronal ...\"\n",
      "t1 = time.time()\n",
      "hits_valid = neural_net.fit(train, valid, mini_batch=50, parallelism=4, stops=global_stops,\n",
      "                            optimizer_params=opt_params, keep_best=True)\n",
      "hits_test, predict = neural_net.evaluate(test, predictions=True)\n",
      "t1f = time.time() - t1"
     ],
     "language": "python",
     "metadata": {},
     "outputs": [
      {
       "output_type": "stream",
       "stream": "stdout",
       "text": [
        "Entrenando red neuronal ...\n",
        "Epoca "
       ]
      },
      {
       "output_type": "stream",
       "stream": "stdout",
       "text": [
        " 1 . Hits en train:  0.696769374217 . Hits en valid:  0.759856630824\n",
        "Epoca "
       ]
      },
      {
       "output_type": "stream",
       "stream": "stdout",
       "text": [
        " 2 . Hits en train:  0.833477620284 . Hits en valid:  0.8619201726\n",
        "Epoca "
       ]
      },
      {
       "output_type": "stream",
       "stream": "stdout",
       "text": [
        " 3 . Hits en train:  0.895156404 . Hits en valid:  0.929465301479\n",
        "Epoca "
       ]
      },
      {
       "output_type": "stream",
       "stream": "stdout",
       "text": [
        " 4 . Hits en train:  0.904301671747 . Hits en valid:  0.964138741917\n",
        "Epoca "
       ]
      },
      {
       "output_type": "stream",
       "stream": "stdout",
       "text": [
        " 5 . Hits en train:  0.899364123248 . Hits en valid:  0.92673992674\n"
       ]
      }
     ],
     "prompt_number": 5
    },
    {
     "cell_type": "markdown",
     "metadata": {},
     "source": [
      "###Resultados"
     ]
    },
    {
     "cell_type": "code",
     "collapsed": false,
     "input": [
      "print 'Tiempo: ', t1f, 'Tasa de acierto final: ', hits_test\n",
      "\n",
      "print \"Metricas: \"\n",
      "labels = map(lambda lp: float(lp.label), test)\n",
      "metrics = ClassificationMetrics(zip(predict, labels), 3)\n",
      "print \"Precision: \", metrics.precision()\n",
      "print \"Recall: \", metrics.recall()\n",
      "print \"Confusion: \"\n",
      "print metrics.confusion_matrix()"
     ],
     "language": "python",
     "metadata": {},
     "outputs": [
      {
       "output_type": "stream",
       "stream": "stdout",
       "text": [
        "Tiempo:  65.9568722248 Tasa de acierto final:  1.0\n",
        "Metricas: \n",
        "Precision:  1.0\n",
        "Recall:  1.0\n",
        "Confusion: \n",
        "[[4 0 0]\n",
        " [0 6 0]\n",
        " [0 0 2]]\n"
       ]
      }
     ],
     "prompt_number": 6
    },
    {
     "cell_type": "markdown",
     "metadata": {},
     "source": [
      "###Gr\u00e1ficas"
     ]
    },
    {
     "cell_type": "code",
     "collapsed": false,
     "input": [
      "from utils.plots import plot_confusion_matrix, plot_activations\n",
      "% matplotlib inline\n",
      "\n",
      "plot_confusion_matrix(metrics.confusion_matrix())\n",
      "plot_activations(net_params)\n"
     ],
     "language": "python",
     "metadata": {},
     "outputs": [
      {
       "metadata": {},
       "output_type": "display_data",
       "png": "[encoded data removed]",
       "text": [
        "<matplotlib.figure.Figure at 0x7f8af7659690>"
       ]
      },
      {
       "metadata": {},
       "output_type": "display_data",
       "png": "[encoded data removed]",
       "text": [
        "<matplotlib.figure.Figure at 0x7f8af73cec50>"
       ]
      }
     ],
     "prompt_number": 7
    },
    {
     "cell_type": "code",
     "collapsed": false,
     "input": [],
     "language": "python",
     "metadata": {},
     "outputs": [],
     "prompt_number": 7
    }
   ],
   "metadata": {}
  }
 ]
}