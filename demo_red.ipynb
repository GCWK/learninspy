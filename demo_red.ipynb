{
 "metadata": {
  "name": "",
  "signature": "sha256:6b64dd6e4a00081dcd20079bf5fa70404a2d8e1657b5de653985e99461e8fafe"
 },
 "nbformat": 3,
 "nbformat_minor": 0,
 "worksheets": [
  {
   "cells": [
    {
     "cell_type": "code",
     "collapsed": false,
     "input": [
      "import dnn.model as mod\n",
      "from dnn.optimization import OptimizerParameters\n",
      "import numpy as np\n",
      "import time\n",
      "from sklearn import datasets"
     ],
     "language": "python",
     "metadata": {},
     "outputs": [],
     "prompt_number": 1
    },
    {
     "cell_type": "heading",
     "level": 3,
     "metadata": {},
     "source": [
      "Cargo datos de Iris"
     ]
    },
    {
     "cell_type": "code",
     "collapsed": false,
     "input": [
      "iris = datasets.load_iris()\n",
      "features = iris.data\n",
      "labels = iris.target"
     ],
     "language": "python",
     "metadata": {},
     "outputs": [],
     "prompt_number": 3
    },
    {
     "cell_type": "heading",
     "level": 3,
     "metadata": {},
     "source": [
      "Seleccionar los par\u00e1metros de la Red Neuronal"
     ]
    },
    {
     "cell_type": "code",
     "collapsed": false,
     "input": [
      "parametros_red = mod.DeepLearningParams([4, 10, 5, 3], loss='CrossEntropy', activation='Tanh',\n",
      "                                    dropout_ratios=[0.5, 0.5, 0.0], minimizer='Adadelta')"
     ],
     "language": "python",
     "metadata": {},
     "outputs": [],
     "prompt_number": 2
    },
    {
     "cell_type": "heading",
     "level": 3,
     "metadata": {},
     "source": [
      "Inicio Red Neuronal"
     ]
    },
    {
     "cell_type": "code",
     "collapsed": false,
     "input": [
      "redneuronal = mod.NeuralNetwork(parametros_red)"
     ],
     "language": "python",
     "metadata": {},
     "outputs": [
      {
       "output_type": "stream",
       "stream": "stdout",
       "text": [
        "Gradientes de activaciones OK!\n"
       ]
      }
     ],
     "prompt_number": 4
    },
    {
     "cell_type": "heading",
     "level": 3,
     "metadata": {},
     "source": [
      "Entreno Red Neuronal"
     ]
    },
    {
     "cell_type": "code",
     "collapsed": false,
     "input": [
      "t1 = time.time()\n",
      "hits = redneuronal.train(features, labels, mini_batch=50, parallelism=4, epochs=5)\n",
      "t1f = time.time() - t1"
     ],
     "language": "python",
     "metadata": {},
     "outputs": [
      {
       "output_type": "stream",
       "stream": "stdout",
       "text": [
        "Epoca  0\n",
        "Epoca "
       ]
      },
      {
       "output_type": "stream",
       "stream": "stdout",
       "text": [
        " 1\n",
        "Epoca "
       ]
      },
      {
       "output_type": "stream",
       "stream": "stdout",
       "text": [
        " 2\n",
        "Epoca "
       ]
      },
      {
       "output_type": "stream",
       "stream": "stdout",
       "text": [
        " 3\n",
        "Epoca "
       ]
      },
      {
       "output_type": "stream",
       "stream": "stdout",
       "text": [
        " 4\n"
       ]
      }
     ],
     "prompt_number": 6
    },
    {
     "cell_type": "code",
     "collapsed": false,
     "input": [
      "print 'Tiempo: ', t1f, 'Tasa de acierto final: ', hits"
     ],
     "language": "python",
     "metadata": {},
     "outputs": []
    }
   ],
   "metadata": {}
  }
 ]
}