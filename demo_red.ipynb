{
 "metadata": {
  "name": "",
  "signature": "sha256:2216662d969fe19b525b8a13e95547e09c6c80d638c86461924805ec8f55db05"
 },
 "nbformat": 3,
 "nbformat_minor": 0,
 "worksheets": [
  {
   "cells": [
    {
     "cell_type": "code",
     "collapsed": false,
     "input": [
      "import dnn.model as mod\n",
      "from dnn.optimization import OptimizerParameters\n",
      "import numpy as np\n",
      "import time\n",
      "from sklearn import datasets\n",
      "%matplotlib inline\n",
      "import matplotlib.pyplot as plt\n",
      "import mpld3\n",
      "mpld3.enable_notebook()"
     ],
     "language": "python",
     "metadata": {},
     "outputs": [],
     "prompt_number": 16
    },
    {
     "cell_type": "heading",
     "level": 3,
     "metadata": {},
     "source": [
      "Cargo datos de Iris"
     ]
    },
    {
     "cell_type": "code",
     "collapsed": false,
     "input": [
      "iris = datasets.load_iris()\n",
      "features = iris.data\n",
      "labels = iris.target"
     ],
     "language": "python",
     "metadata": {},
     "outputs": [],
     "prompt_number": 22
    },
    {
     "cell_type": "heading",
     "level": 3,
     "metadata": {},
     "source": [
      "Seleccionar los par\u00e1metros de la Red Neuronal"
     ]
    },
    {
     "cell_type": "code",
     "collapsed": false,
     "input": [
      "parametros_red = mod.DeepLearningParams([4, 10, 5, 3], loss='CrossEntropy', activation='Tanh',\n",
      "                                    dropout_ratios=[0.5, 0.5, 0.0], minimizer='Adadelta')"
     ],
     "language": "python",
     "metadata": {},
     "outputs": [],
     "prompt_number": 23
    },
    {
     "cell_type": "heading",
     "level": 3,
     "metadata": {},
     "source": [
      "Inicio Red Neuronal"
     ]
    },
    {
     "cell_type": "code",
     "collapsed": false,
     "input": [
      "redneuronal = mod.NeuralNetwork(parametros_red)"
     ],
     "language": "python",
     "metadata": {},
     "outputs": [
      {
       "output_type": "stream",
       "stream": "stdout",
       "text": [
        "Gradientes de activaciones OK!\n"
       ]
      }
     ],
     "prompt_number": 24
    },
    {
     "cell_type": "heading",
     "level": 3,
     "metadata": {},
     "source": [
      "Entreno Red Neuronal"
     ]
    },
    {
     "cell_type": "code",
     "collapsed": false,
     "input": [
      "t1 = time.time()\n",
      "hits = redneuronal.train(features, labels, mini_batch=50, parallelism=4, epochs=5)\n",
      "t1f = time.time() - t1"
     ],
     "language": "python",
     "metadata": {},
     "outputs": [
      {
       "output_type": "stream",
       "stream": "stdout",
       "text": [
        "Epoca  0\n",
        "Epoca "
       ]
      },
      {
       "output_type": "stream",
       "stream": "stdout",
       "text": [
        " 1\n",
        "Epoca "
       ]
      },
      {
       "output_type": "stream",
       "stream": "stdout",
       "text": [
        " 2\n",
        "Epoca "
       ]
      },
      {
       "output_type": "stream",
       "stream": "stdout",
       "text": [
        " 3\n",
        "Epoca "
       ]
      },
      {
       "output_type": "stream",
       "stream": "stdout",
       "text": [
        " 4\n"
       ]
      }
     ],
     "prompt_number": 25
    },
    {
     "cell_type": "code",
     "collapsed": false,
     "input": [
      "print 'Tiempo: ', t1f, 'Tasa de acierto final: ', hits"
     ],
     "language": "python",
     "metadata": {},
     "outputs": [
      {
       "output_type": "stream",
       "stream": "stdout",
       "text": [
        "Tiempo:  26.7015640736 Tasa de acierto final:  0.666666666667\n"
       ]
      }
     ],
     "prompt_number": 26
    },
    {
     "cell_type": "code",
     "collapsed": false,
     "input": [
      "from mpld3 import plugins\n",
      "fig, ax = plt.subplots()\n",
      "points = ax.scatter(np.random.rand(40), np.random.rand(40),\n",
      "                    s=300, alpha=0.3)\n",
      "\n",
      "labels = [\"Point {0}\".format(i) for i in range(40)]\n",
      "tooltip = plugins.PointLabelTooltip(points, labels)\n",
      "\n",
      "plugins.connect(fig, tooltip)"
     ],
     "language": "python",
     "metadata": {},
     "outputs": [
      {
       "html": [
        "\n",
        "\n",
        "<style>\n",
        "\n",
        "</style>\n",
        "\n",
        "<div id=\"fig_el270141404019661357601864164878\"></div>\n",
        "<script>\n",
        "function mpld3_load_lib(url, callback){\n",
        "  var s = document.createElement('script');\n",
        "  s.src = url;\n",
        "  s.async = true;\n",
        "  s.onreadystatechange = s.onload = callback;\n",
        "  s.onerror = function(){console.warn(\"failed to load library \" + url);};\n",
        "  document.getElementsByTagName(\"head\")[0].appendChild(s);\n",
        "}\n",
        "\n",
        "if(typeof(mpld3) !== \"undefined\" && mpld3._mpld3IsLoaded){\n",
        "   // already loaded: just create the figure\n",
        "   !function(mpld3){\n",
        "       \n",
        "       mpld3.draw_figure(\"fig_el270141404019661357601864164878\", {\"axes\": [{\"xlim\": [-0.20000000000000001, 1.2000000000000002], \"yscale\": \"linear\", \"axesbg\": \"#FFFFFF\", \"texts\": [], \"zoomable\": true, \"images\": [], \"xdomain\": [-0.20000000000000001, 1.2000000000000002], \"ylim\": [-0.20000000000000001, 1.2000000000000002], \"paths\": [], \"sharey\": [], \"sharex\": [], \"axesbgalpha\": null, \"axes\": [{\"scale\": \"linear\", \"tickformat\": null, \"grid\": {\"gridOn\": false}, \"fontsize\": 10.0, \"position\": \"bottom\", \"nticks\": 9, \"tickvalues\": null}, {\"scale\": \"linear\", \"tickformat\": null, \"grid\": {\"gridOn\": false}, \"fontsize\": 10.0, \"position\": \"left\", \"nticks\": 9, \"tickvalues\": null}], \"lines\": [], \"markers\": [], \"id\": \"el27014140401966079760\", \"ydomain\": [-0.20000000000000001, 1.2000000000000002], \"collections\": [{\"paths\": [[[[0.0, -0.5], [0.13260155, -0.5], [0.25978993539242673, -0.44731684579412084], [0.3535533905932738, -0.3535533905932738], [0.44731684579412084, -0.25978993539242673], [0.5, -0.13260155], [0.5, 0.0], [0.5, 0.13260155], [0.44731684579412084, 0.25978993539242673], [0.3535533905932738, 0.3535533905932738], [0.25978993539242673, 0.44731684579412084], [0.13260155, 0.5], [0.0, 0.5], [-0.13260155, 0.5], [-0.25978993539242673, 0.44731684579412084], [-0.3535533905932738, 0.3535533905932738], [-0.44731684579412084, 0.25978993539242673], [-0.5, 0.13260155], [-0.5, 0.0], [-0.5, -0.13260155], [-0.44731684579412084, -0.25978993539242673], [-0.3535533905932738, -0.3535533905932738], [-0.25978993539242673, -0.44731684579412084], [-0.13260155, -0.5], [0.0, -0.5]], [\"M\", \"C\", \"C\", \"C\", \"C\", \"C\", \"C\", \"C\", \"C\", \"Z\"]]], \"edgecolors\": [\"#000000\"], \"edgewidths\": [1.0], \"offsets\": \"data01\", \"yindex\": 1, \"id\": \"el27014140401966137104\", \"pathtransforms\": [[19.245008972987527, 0.0, 0.0, 19.245008972987527, 0.0, 0.0]], \"pathcoordinates\": \"display\", \"offsetcoordinates\": \"data\", \"zorder\": 1, \"xindex\": 0, \"alphas\": [0.3], \"facecolors\": [\"#0000FF\"]}], \"xscale\": \"linear\", \"bbox\": [0.125, 0.125, 0.77500000000000002, 0.77500000000000002]}], \"height\": 320.0, \"width\": 480.0, \"plugins\": [{\"type\": \"reset\"}, {\"enabled\": false, \"button\": true, \"type\": \"zoom\"}, {\"enabled\": false, \"button\": true, \"type\": \"boxzoom\"}, {\"voffset\": 10, \"labels\": [\"Point 0\", \"Point 1\", \"Point 2\", \"Point 3\", \"Point 4\", \"Point 5\", \"Point 6\", \"Point 7\", \"Point 8\", \"Point 9\", \"Point 10\", \"Point 11\", \"Point 12\", \"Point 13\", \"Point 14\", \"Point 15\", \"Point 16\", \"Point 17\", \"Point 18\", \"Point 19\", \"Point 20\", \"Point 21\", \"Point 22\", \"Point 23\", \"Point 24\", \"Point 25\", \"Point 26\", \"Point 27\", \"Point 28\", \"Point 29\", \"Point 30\", \"Point 31\", \"Point 32\", \"Point 33\", \"Point 34\", \"Point 35\", \"Point 36\", \"Point 37\", \"Point 38\", \"Point 39\"], \"hoffset\": 0, \"location\": \"mouse\", \"type\": \"tooltip\", \"id\": \"el27014140401966137104\"}], \"data\": {\"data01\": [[0.3777487374168752, 0.20990829361986973], [0.7031388818692978, 0.08147142402579888], [0.4873362941494751, 0.1445245037437296], [0.6084903518130402, 0.34274756483884816], [0.07728345183214025, 0.7218668795901312], [0.4461264507012528, 0.7362208432617562], [0.8289731502829774, 0.5090436785412296], [0.36508367317712054, 0.9107706591771627], [0.8427176506341665, 0.5737966428236222], [0.41370866115875726, 0.9148706996198503], [0.42303292813488547, 0.12056681539358838], [0.1353454249879713, 0.0005128891875070263], [0.9263170966789649, 0.7647430954435613], [0.2393247305393139, 0.9940232587595441], [0.8036167547451818, 0.5649465697437382], [0.5075779440593999, 0.11587887410045083], [0.506585492826312, 0.806635734808753], [0.17402866567069497, 0.8789090805366794], [0.09706019344490169, 0.49948586842770926], [0.33346855171055734, 0.7034787289413788], [0.6388724138599432, 0.060254681223002926], [0.726005783784042, 0.20970961574144253], [0.8696473106026341, 0.5097218102638579], [0.5849569543050125, 0.7037592631471908], [0.9230460875004358, 0.7030025644298885], [0.4834456070472024, 0.38613111435016656], [0.37493932206661307, 0.9088692362471337], [0.1852440112701348, 0.8013758195779975], [0.042954756177814746, 0.7696499782608959], [0.17882920468012475, 0.7447497736925711], [0.5402278857025201, 0.7917996341612579], [0.6115599151506983, 0.35703328254352407], [0.9525819260962738, 0.7402984179965612], [0.5184270142928682, 0.23798408328949539], [0.9416015247378029, 0.4615543192292423], [0.20078838615364447, 0.22404785484763134], [0.6732070562070601, 0.5580195202681552], [0.14528959838081734, 0.15304474199650298], [0.24327425219799248, 0.7100335449111664], [0.2075029420647838, 0.8037218597267304]]}, \"id\": \"el27014140401966135760\"});\n",
        "   }(mpld3);\n",
        "}else if(typeof define === \"function\" && define.amd){\n",
        "   // require.js is available: use it to load d3/mpld3\n",
        "   require.config({paths: {d3: \"https://mpld3.github.io/js/d3.v3.min\"}});\n",
        "   require([\"d3\"], function(d3){\n",
        "      window.d3 = d3;\n",
        "      mpld3_load_lib(\"https://mpld3.github.io/js/mpld3.v0.2.js\", function(){\n",
        "         \n",
        "         mpld3.draw_figure(\"fig_el270141404019661357601864164878\", {\"axes\": [{\"xlim\": [-0.20000000000000001, 1.2000000000000002], \"yscale\": \"linear\", \"axesbg\": \"#FFFFFF\", \"texts\": [], \"zoomable\": true, \"images\": [], \"xdomain\": [-0.20000000000000001, 1.2000000000000002], \"ylim\": [-0.20000000000000001, 1.2000000000000002], \"paths\": [], \"sharey\": [], \"sharex\": [], \"axesbgalpha\": null, \"axes\": [{\"scale\": \"linear\", \"tickformat\": null, \"grid\": {\"gridOn\": false}, \"fontsize\": 10.0, \"position\": \"bottom\", \"nticks\": 9, \"tickvalues\": null}, {\"scale\": \"linear\", \"tickformat\": null, \"grid\": {\"gridOn\": false}, \"fontsize\": 10.0, \"position\": \"left\", \"nticks\": 9, \"tickvalues\": null}], \"lines\": [], \"markers\": [], \"id\": \"el27014140401966079760\", \"ydomain\": [-0.20000000000000001, 1.2000000000000002], \"collections\": [{\"paths\": [[[[0.0, -0.5], [0.13260155, -0.5], [0.25978993539242673, -0.44731684579412084], [0.3535533905932738, -0.3535533905932738], [0.44731684579412084, -0.25978993539242673], [0.5, -0.13260155], [0.5, 0.0], [0.5, 0.13260155], [0.44731684579412084, 0.25978993539242673], [0.3535533905932738, 0.3535533905932738], [0.25978993539242673, 0.44731684579412084], [0.13260155, 0.5], [0.0, 0.5], [-0.13260155, 0.5], [-0.25978993539242673, 0.44731684579412084], [-0.3535533905932738, 0.3535533905932738], [-0.44731684579412084, 0.25978993539242673], [-0.5, 0.13260155], [-0.5, 0.0], [-0.5, -0.13260155], [-0.44731684579412084, -0.25978993539242673], [-0.3535533905932738, -0.3535533905932738], [-0.25978993539242673, -0.44731684579412084], [-0.13260155, -0.5], [0.0, -0.5]], [\"M\", \"C\", \"C\", \"C\", \"C\", \"C\", \"C\", \"C\", \"C\", \"Z\"]]], \"edgecolors\": [\"#000000\"], \"edgewidths\": [1.0], \"offsets\": \"data01\", \"yindex\": 1, \"id\": \"el27014140401966137104\", \"pathtransforms\": [[19.245008972987527, 0.0, 0.0, 19.245008972987527, 0.0, 0.0]], \"pathcoordinates\": \"display\", \"offsetcoordinates\": \"data\", \"zorder\": 1, \"xindex\": 0, \"alphas\": [0.3], \"facecolors\": [\"#0000FF\"]}], \"xscale\": \"linear\", \"bbox\": [0.125, 0.125, 0.77500000000000002, 0.77500000000000002]}], \"height\": 320.0, \"width\": 480.0, \"plugins\": [{\"type\": \"reset\"}, {\"enabled\": false, \"button\": true, \"type\": \"zoom\"}, {\"enabled\": false, \"button\": true, \"type\": \"boxzoom\"}, {\"voffset\": 10, \"labels\": [\"Point 0\", \"Point 1\", \"Point 2\", \"Point 3\", \"Point 4\", \"Point 5\", \"Point 6\", \"Point 7\", \"Point 8\", \"Point 9\", \"Point 10\", \"Point 11\", \"Point 12\", \"Point 13\", \"Point 14\", \"Point 15\", \"Point 16\", \"Point 17\", \"Point 18\", \"Point 19\", \"Point 20\", \"Point 21\", \"Point 22\", \"Point 23\", \"Point 24\", \"Point 25\", \"Point 26\", \"Point 27\", \"Point 28\", \"Point 29\", \"Point 30\", \"Point 31\", \"Point 32\", \"Point 33\", \"Point 34\", \"Point 35\", \"Point 36\", \"Point 37\", \"Point 38\", \"Point 39\"], \"hoffset\": 0, \"location\": \"mouse\", \"type\": \"tooltip\", \"id\": \"el27014140401966137104\"}], \"data\": {\"data01\": [[0.3777487374168752, 0.20990829361986973], [0.7031388818692978, 0.08147142402579888], [0.4873362941494751, 0.1445245037437296], [0.6084903518130402, 0.34274756483884816], [0.07728345183214025, 0.7218668795901312], [0.4461264507012528, 0.7362208432617562], [0.8289731502829774, 0.5090436785412296], [0.36508367317712054, 0.9107706591771627], [0.8427176506341665, 0.5737966428236222], [0.41370866115875726, 0.9148706996198503], [0.42303292813488547, 0.12056681539358838], [0.1353454249879713, 0.0005128891875070263], [0.9263170966789649, 0.7647430954435613], [0.2393247305393139, 0.9940232587595441], [0.8036167547451818, 0.5649465697437382], [0.5075779440593999, 0.11587887410045083], [0.506585492826312, 0.806635734808753], [0.17402866567069497, 0.8789090805366794], [0.09706019344490169, 0.49948586842770926], [0.33346855171055734, 0.7034787289413788], [0.6388724138599432, 0.060254681223002926], [0.726005783784042, 0.20970961574144253], [0.8696473106026341, 0.5097218102638579], [0.5849569543050125, 0.7037592631471908], [0.9230460875004358, 0.7030025644298885], [0.4834456070472024, 0.38613111435016656], [0.37493932206661307, 0.9088692362471337], [0.1852440112701348, 0.8013758195779975], [0.042954756177814746, 0.7696499782608959], [0.17882920468012475, 0.7447497736925711], [0.5402278857025201, 0.7917996341612579], [0.6115599151506983, 0.35703328254352407], [0.9525819260962738, 0.7402984179965612], [0.5184270142928682, 0.23798408328949539], [0.9416015247378029, 0.4615543192292423], [0.20078838615364447, 0.22404785484763134], [0.6732070562070601, 0.5580195202681552], [0.14528959838081734, 0.15304474199650298], [0.24327425219799248, 0.7100335449111664], [0.2075029420647838, 0.8037218597267304]]}, \"id\": \"el27014140401966135760\"});\n",
        "      });\n",
        "    });\n",
        "}else{\n",
        "    // require.js not available: dynamically load d3 & mpld3\n",
        "    mpld3_load_lib(\"https://mpld3.github.io/js/d3.v3.min.js\", function(){\n",
        "         mpld3_load_lib(\"https://mpld3.github.io/js/mpld3.v0.2.js\", function(){\n",
        "                 \n",
        "                 mpld3.draw_figure(\"fig_el270141404019661357601864164878\", {\"axes\": [{\"xlim\": [-0.20000000000000001, 1.2000000000000002], \"yscale\": \"linear\", \"axesbg\": \"#FFFFFF\", \"texts\": [], \"zoomable\": true, \"images\": [], \"xdomain\": [-0.20000000000000001, 1.2000000000000002], \"ylim\": [-0.20000000000000001, 1.2000000000000002], \"paths\": [], \"sharey\": [], \"sharex\": [], \"axesbgalpha\": null, \"axes\": [{\"scale\": \"linear\", \"tickformat\": null, \"grid\": {\"gridOn\": false}, \"fontsize\": 10.0, \"position\": \"bottom\", \"nticks\": 9, \"tickvalues\": null}, {\"scale\": \"linear\", \"tickformat\": null, \"grid\": {\"gridOn\": false}, \"fontsize\": 10.0, \"position\": \"left\", \"nticks\": 9, \"tickvalues\": null}], \"lines\": [], \"markers\": [], \"id\": \"el27014140401966079760\", \"ydomain\": [-0.20000000000000001, 1.2000000000000002], \"collections\": [{\"paths\": [[[[0.0, -0.5], [0.13260155, -0.5], [0.25978993539242673, -0.44731684579412084], [0.3535533905932738, -0.3535533905932738], [0.44731684579412084, -0.25978993539242673], [0.5, -0.13260155], [0.5, 0.0], [0.5, 0.13260155], [0.44731684579412084, 0.25978993539242673], [0.3535533905932738, 0.3535533905932738], [0.25978993539242673, 0.44731684579412084], [0.13260155, 0.5], [0.0, 0.5], [-0.13260155, 0.5], [-0.25978993539242673, 0.44731684579412084], [-0.3535533905932738, 0.3535533905932738], [-0.44731684579412084, 0.25978993539242673], [-0.5, 0.13260155], [-0.5, 0.0], [-0.5, -0.13260155], [-0.44731684579412084, -0.25978993539242673], [-0.3535533905932738, -0.3535533905932738], [-0.25978993539242673, -0.44731684579412084], [-0.13260155, -0.5], [0.0, -0.5]], [\"M\", \"C\", \"C\", \"C\", \"C\", \"C\", \"C\", \"C\", \"C\", \"Z\"]]], \"edgecolors\": [\"#000000\"], \"edgewidths\": [1.0], \"offsets\": \"data01\", \"yindex\": 1, \"id\": \"el27014140401966137104\", \"pathtransforms\": [[19.245008972987527, 0.0, 0.0, 19.245008972987527, 0.0, 0.0]], \"pathcoordinates\": \"display\", \"offsetcoordinates\": \"data\", \"zorder\": 1, \"xindex\": 0, \"alphas\": [0.3], \"facecolors\": [\"#0000FF\"]}], \"xscale\": \"linear\", \"bbox\": [0.125, 0.125, 0.77500000000000002, 0.77500000000000002]}], \"height\": 320.0, \"width\": 480.0, \"plugins\": [{\"type\": \"reset\"}, {\"enabled\": false, \"button\": true, \"type\": \"zoom\"}, {\"enabled\": false, \"button\": true, \"type\": \"boxzoom\"}, {\"voffset\": 10, \"labels\": [\"Point 0\", \"Point 1\", \"Point 2\", \"Point 3\", \"Point 4\", \"Point 5\", \"Point 6\", \"Point 7\", \"Point 8\", \"Point 9\", \"Point 10\", \"Point 11\", \"Point 12\", \"Point 13\", \"Point 14\", \"Point 15\", \"Point 16\", \"Point 17\", \"Point 18\", \"Point 19\", \"Point 20\", \"Point 21\", \"Point 22\", \"Point 23\", \"Point 24\", \"Point 25\", \"Point 26\", \"Point 27\", \"Point 28\", \"Point 29\", \"Point 30\", \"Point 31\", \"Point 32\", \"Point 33\", \"Point 34\", \"Point 35\", \"Point 36\", \"Point 37\", \"Point 38\", \"Point 39\"], \"hoffset\": 0, \"location\": \"mouse\", \"type\": \"tooltip\", \"id\": \"el27014140401966137104\"}], \"data\": {\"data01\": [[0.3777487374168752, 0.20990829361986973], [0.7031388818692978, 0.08147142402579888], [0.4873362941494751, 0.1445245037437296], [0.6084903518130402, 0.34274756483884816], [0.07728345183214025, 0.7218668795901312], [0.4461264507012528, 0.7362208432617562], [0.8289731502829774, 0.5090436785412296], [0.36508367317712054, 0.9107706591771627], [0.8427176506341665, 0.5737966428236222], [0.41370866115875726, 0.9148706996198503], [0.42303292813488547, 0.12056681539358838], [0.1353454249879713, 0.0005128891875070263], [0.9263170966789649, 0.7647430954435613], [0.2393247305393139, 0.9940232587595441], [0.8036167547451818, 0.5649465697437382], [0.5075779440593999, 0.11587887410045083], [0.506585492826312, 0.806635734808753], [0.17402866567069497, 0.8789090805366794], [0.09706019344490169, 0.49948586842770926], [0.33346855171055734, 0.7034787289413788], [0.6388724138599432, 0.060254681223002926], [0.726005783784042, 0.20970961574144253], [0.8696473106026341, 0.5097218102638579], [0.5849569543050125, 0.7037592631471908], [0.9230460875004358, 0.7030025644298885], [0.4834456070472024, 0.38613111435016656], [0.37493932206661307, 0.9088692362471337], [0.1852440112701348, 0.8013758195779975], [0.042954756177814746, 0.7696499782608959], [0.17882920468012475, 0.7447497736925711], [0.5402278857025201, 0.7917996341612579], [0.6115599151506983, 0.35703328254352407], [0.9525819260962738, 0.7402984179965612], [0.5184270142928682, 0.23798408328949539], [0.9416015247378029, 0.4615543192292423], [0.20078838615364447, 0.22404785484763134], [0.6732070562070601, 0.5580195202681552], [0.14528959838081734, 0.15304474199650298], [0.24327425219799248, 0.7100335449111664], [0.2075029420647838, 0.8037218597267304]]}, \"id\": \"el27014140401966135760\"});\n",
        "            })\n",
        "         });\n",
        "}\n",
        "</script>"
       ],
       "metadata": {},
       "output_type": "display_data",
       "png": "[encoded data removed]",
       "text": [
        "<matplotlib.figure.Figure at 0x7fb1e15139d0>"
       ]
      }
     ],
     "prompt_number": 19
    }
   ],
   "metadata": {}
  }
 ]
}